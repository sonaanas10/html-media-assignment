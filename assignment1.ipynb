{
 "cells": [
  {
   "cell_type": "code",
   "execution_count": 1,
   "id": "5acdbfa0-b07b-4a9f-b998-a042b0f8b712",
   "metadata": {},
   "outputs": [
    {
     "name": "stdout",
     "output_type": "stream",
     "text": [
      "1\n",
      "2\n",
      "3\n",
      "4\n",
      "5\n",
      "6\n",
      "7\n",
      "8\n",
      "9\n"
     ]
    }
   ],
   "source": [
    "n=10\n",
    "i=1\n",
    "while i<n:\n",
    "    print(i)\n",
    "    i=i+1"
   ]
  },
  {
   "cell_type": "code",
   "execution_count": null,
   "id": "0b6feff9-1b6a-48e5-9674-d9394c36e159",
   "metadata": {},
   "outputs": [],
   "source": []
  },
  {
   "cell_type": "code",
   "execution_count": 18,
   "id": "a98ed866-1150-4dcc-bac9-35d351b00a43",
   "metadata": {},
   "outputs": [
    {
     "name": "stdout",
     "output_type": "stream",
     "text": [
      "7\n",
      "8\n",
      "9\n",
      "this will be executed\n"
     ]
    }
   ],
   "source": [
    "n=10\n",
    "i=7\n",
    "while i<n:\n",
    "    print(i)\n",
    "    i=i+1\n",
    "else :\n",
    "        print(\"this will be executed\")"
   ]
  },
  {
   "cell_type": "code",
   "execution_count": 19,
   "id": "45f6c50d-e99a-4b50-97c7-0f1d391195e2",
   "metadata": {},
   "outputs": [],
   "source": [
    "a=10\n",
    "if a>10:\n",
    "    pass"
   ]
  },
  {
   "cell_type": "code",
   "execution_count": 20,
   "id": "759d0906-478e-4171-b19d-0345a785470d",
   "metadata": {},
   "outputs": [
    {
     "data": {
      "text/plain": [
       "False"
      ]
     },
     "execution_count": 20,
     "metadata": {},
     "output_type": "execute_result"
    }
   ],
   "source": [
    "a>10"
   ]
  },
  {
   "cell_type": "code",
   "execution_count": 21,
   "id": "0ca81082-0de7-4ddf-a36d-034333330294",
   "metadata": {},
   "outputs": [],
   "source": [
    "a=10\n",
    "if a>10:\n",
    "    print(\"this will execute now\")"
   ]
  },
  {
   "cell_type": "code",
   "execution_count": 24,
   "id": "1420b4aa-dfb1-4305-b892-615f4a5b2dc2",
   "metadata": {},
   "outputs": [
    {
     "data": {
      "text/plain": [
       "False"
      ]
     },
     "execution_count": 24,
     "metadata": {},
     "output_type": "execute_result"
    }
   ],
   "source": [
    "a>9"
   ]
  },
  {
   "cell_type": "code",
   "execution_count": 25,
   "id": "fe0b9eaf-06e6-41f2-a205-e8170f7b48cb",
   "metadata": {},
   "outputs": [
    {
     "data": {
      "text/plain": [
       "False"
      ]
     },
     "execution_count": 25,
     "metadata": {},
     "output_type": "execute_result"
    }
   ],
   "source": [
    "a>10"
   ]
  },
  {
   "cell_type": "code",
   "execution_count": 2,
   "id": "c392755c-0019-4b59-940d-f8563830b0d8",
   "metadata": {},
   "outputs": [
    {
     "name": "stdout",
     "output_type": "stream",
     "text": [
      "this will not be done\n"
     ]
    }
   ],
   "source": [
    "a=10\n",
    "if a>10:\n",
    "    print(\"this will be done\")\n",
    "else: \n",
    "    print(\"this will not be done\")"
   ]
  },
  {
   "cell_type": "code",
   "execution_count": 5,
   "id": "8a81e1c2-9733-4588-8da8-3d50935efd42",
   "metadata": {},
   "outputs": [
    {
     "name": "stdout",
     "output_type": "stream",
     "text": [
      "this will not be done\n"
     ]
    }
   ],
   "source": [
    "a=10\n",
    "if a<10:\n",
    "    print(\"this will be done\")\n",
    "else: \n",
    "    print(\"this will not be done\")"
   ]
  },
  {
   "cell_type": "code",
   "execution_count": 8,
   "id": "29119d9e-51aa-4ff9-ac57-cec59f3e7665",
   "metadata": {},
   "outputs": [
    {
     "name": "stdout",
     "output_type": "stream",
     "text": [
      "this will not be done\n"
     ]
    }
   ],
   "source": [
    "a=10\n",
    "if a<10:\n",
    "    print(\"this will be done\")\n",
    "else: \n",
    "    print(\"this will not be done\")"
   ]
  },
  {
   "cell_type": "code",
   "execution_count": 11,
   "id": "e7a602ed-06c9-4ddd-8df0-9a9daecd84e5",
   "metadata": {},
   "outputs": [
    {
     "name": "stdout",
     "output_type": "stream",
     "text": [
      "this will be executed once\n"
     ]
    }
   ],
   "source": [
    "a=7\n",
    "if a>10:\n",
    "    print(\"this will be executed\")\n",
    "elif a<10:\n",
    "    print(\"this will be executed once\")\n",
    "else:\n",
    "    print(\"this will not be executed\")"
   ]
  },
  {
   "cell_type": "code",
   "execution_count": 13,
   "id": "2274ab70-eb08-4ee3-985d-9a6a812edcb4",
   "metadata": {},
   "outputs": [
    {
     "name": "stdout",
     "output_type": "stream",
     "text": [
      "this will be executed once\n"
     ]
    }
   ],
   "source": [
    "winner = \"sona\"\n",
    "if winner== \"manu\":\n",
    "    print(\"this will be executed\")\n",
    "elif winner== \"tarak\":\n",
    "    print(\"this will never be executed\")\n",
    "else:\n",
    "    print(\"this will be executed once\")"
   ]
  },
  {
   "cell_type": "code",
   "execution_count": null,
   "id": "77ac4ab3-6a16-405b-b92f-2149d85c837a",
   "metadata": {},
   "outputs": [],
   "source": [
    "n=10\n",
    "i=7\n",
    "while i<n:\n",
    "    print(i)\n",
    "i=i+l"
   ]
  },
  {
   "cell_type": "code",
   "execution_count": 1,
   "id": "ba2493f3-c4b0-4c50-9ae7-421c19de3812",
   "metadata": {},
   "outputs": [
    {
     "name": "stdout",
     "output_type": "stream",
     "text": [
      "1\n",
      "2\n",
      "3\n",
      "4\n",
      "5\n",
      "6\n",
      "7\n",
      "8\n",
      "9\n"
     ]
    }
   ],
   "source": [
    "n=10\n",
    "i=1\n",
    "while i<n:\n",
    "    print(i)\n",
    "    i=i+1"
   ]
  },
  {
   "cell_type": "code",
   "execution_count": 4,
   "id": "2af3e7f9-8821-42fe-b398-06b0a36a0f62",
   "metadata": {},
   "outputs": [
    {
     "name": "stdout",
     "output_type": "stream",
     "text": [
      "1\n",
      "2\n",
      "3\n",
      "4\n",
      "5\n",
      "6\n",
      "7\n",
      "8\n",
      "9\n",
      "finished\n"
     ]
    }
   ],
   "source": [
    "n=10\n",
    "i=1\n",
    "while i<n:\n",
    "    print (i)\n",
    "    i=i+1\n",
    "else:\n",
    "        print(\"finished\")"
   ]
  },
  {
   "cell_type": "code",
   "execution_count": 49,
   "id": "640d40ab-ab5e-4563-9631-a0b9287b68d7",
   "metadata": {},
   "outputs": [
    {
     "name": "stdout",
     "output_type": "stream",
     "text": [
      "1\n",
      "2\n",
      "3\n",
      "4\n",
      "5\n",
      "6\n",
      "7\n",
      "8\n",
      "9\n",
      "finished\n"
     ]
    }
   ],
   "source": [
    "n=10\n",
    "i=1\n",
    "while i<n:\n",
    "    print(i)\n",
    "    i=i+1   \n",
    "if i==1:\n",
    "    'break'\n",
    "else:\n",
    "    print(\"finished\")"
   ]
  },
  {
   "cell_type": "code",
   "execution_count": 1,
   "id": "38089968-ccc2-4693-bb9c-d65b3250e22b",
   "metadata": {
    "tags": []
   },
   "outputs": [
    {
     "name": "stdout",
     "output_type": "stream",
     "text": [
      "finished\n"
     ]
    }
   ],
   "source": [
    "n=10\n",
    "i=1\n",
    "while i<n:\n",
    "    i=i+1\n",
    "if i==3:\n",
    "    'continue'\n",
    "else:\n",
    "    print(\"finished\")"
   ]
  },
  {
   "cell_type": "code",
   "execution_count": 2,
   "id": "2c0a7f42-c48b-42dc-9b4a-2b12245de869",
   "metadata": {},
   "outputs": [],
   "source": [
    "_b=10"
   ]
  },
  {
   "cell_type": "code",
   "execution_count": 3,
   "id": "7483e41d-d937-4cee-8292-def67eb88648",
   "metadata": {},
   "outputs": [
    {
     "data": {
      "text/plain": [
       "10"
      ]
     },
     "execution_count": 3,
     "metadata": {},
     "output_type": "execute_result"
    }
   ],
   "source": [
    "_b"
   ]
  },
  {
   "cell_type": "code",
   "execution_count": 4,
   "id": "0398c50f-3738-422e-a8ee-bafde32b6ab7",
   "metadata": {},
   "outputs": [],
   "source": [
    "s='sona'"
   ]
  },
  {
   "cell_type": "code",
   "execution_count": 5,
   "id": "4a7ba00e-a5a6-4c62-a0c3-e168eda0a70e",
   "metadata": {},
   "outputs": [
    {
     "data": {
      "text/plain": [
       "'sona'"
      ]
     },
     "execution_count": 5,
     "metadata": {},
     "output_type": "execute_result"
    }
   ],
   "source": [
    "s"
   ]
  },
  {
   "cell_type": "code",
   "execution_count": 6,
   "id": "496a2c27-1fb7-44ee-b516-4406018f117b",
   "metadata": {},
   "outputs": [
    {
     "data": {
      "text/plain": [
       "'10sona'"
      ]
     },
     "execution_count": 6,
     "metadata": {},
     "output_type": "execute_result"
    }
   ],
   "source": [
    "'10'+s"
   ]
  },
  {
   "cell_type": "code",
   "execution_count": 8,
   "id": "043e023b-3091-4427-bf80-3034a0cde1cd",
   "metadata": {},
   "outputs": [
    {
     "data": {
      "text/plain": [
       "'10sona'"
      ]
     },
     "execution_count": 8,
     "metadata": {},
     "output_type": "execute_result"
    }
   ],
   "source": [
    "str(10)+s"
   ]
  },
  {
   "cell_type": "code",
   "execution_count": 9,
   "id": "85e07c49-34ae-4469-8932-4e86a88d2634",
   "metadata": {},
   "outputs": [
    {
     "data": {
      "text/plain": [
       "'100sona'"
      ]
     },
     "execution_count": 9,
     "metadata": {},
     "output_type": "execute_result"
    }
   ],
   "source": [
    "str(100)+s"
   ]
  },
  {
   "cell_type": "code",
   "execution_count": 10,
   "id": "d99b4260-2fd5-4f52-87cc-d815ba35b898",
   "metadata": {},
   "outputs": [
    {
     "data": {
      "text/plain": [
       "'10sona'"
      ]
     },
     "execution_count": 10,
     "metadata": {},
     "output_type": "execute_result"
    }
   ],
   "source": [
    "str(_b)+s"
   ]
  },
  {
   "cell_type": "code",
   "execution_count": null,
   "id": "18a0ff2c-0ae3-42f9-9551-300ecc7a0e69",
   "metadata": {},
   "outputs": [],
   "source": [
    "b=input()"
   ]
  },
  {
   "cell_type": "code",
   "execution_count": 2,
   "id": "5859fd77-d59b-4ecd-beb9-6999088b4dec",
   "metadata": {},
   "outputs": [],
   "source": [
    "b=3"
   ]
  },
  {
   "cell_type": "code",
   "execution_count": 3,
   "id": "4a649808-be38-45ac-bfbf-039a06bd08d9",
   "metadata": {},
   "outputs": [
    {
     "data": {
      "text/plain": [
       "3"
      ]
     },
     "execution_count": 3,
     "metadata": {},
     "output_type": "execute_result"
    }
   ],
   "source": [
    "b"
   ]
  },
  {
   "cell_type": "code",
   "execution_count": 5,
   "id": "56fa34b5-2d58-49b0-b3af-171aafa6f6a4",
   "metadata": {},
   "outputs": [],
   "source": [
    "c=10"
   ]
  },
  {
   "cell_type": "code",
   "execution_count": null,
   "id": "bbf0e600-e82c-4ac9-9158-7f72f081c4e7",
   "metadata": {},
   "outputs": [],
   "source": [
    "c=int(input())"
   ]
  },
  {
   "cell_type": "code",
   "execution_count": 3,
   "id": "cef9f6b1-f3eb-4da0-b633-874d71a2a8a7",
   "metadata": {},
   "outputs": [],
   "source": [
    "c=10"
   ]
  },
  {
   "cell_type": "code",
   "execution_count": 4,
   "id": "c0001125-c7bb-4190-8ef6-8e21bc83a72a",
   "metadata": {},
   "outputs": [
    {
     "data": {
      "text/plain": [
       "int"
      ]
     },
     "execution_count": 4,
     "metadata": {},
     "output_type": "execute_result"
    }
   ],
   "source": [
    "type(c)"
   ]
  },
  {
   "cell_type": "code",
   "execution_count": null,
   "id": "034c8aa9-f53d-45a2-b62d-48b0d8bb5a71",
   "metadata": {},
   "outputs": [],
   "source": [
    "d=input()"
   ]
  },
  {
   "cell_type": "code",
   "execution_count": 4,
   "id": "91d4b4ff-ad4b-4eb5-aff2-0a211565dc01",
   "metadata": {},
   "outputs": [],
   "source": [
    "s='sona'"
   ]
  },
  {
   "cell_type": "code",
   "execution_count": 5,
   "id": "66758721-d9bd-40f1-8f26-b2c79c168a0c",
   "metadata": {},
   "outputs": [
    {
     "data": {
      "text/plain": [
       "'sona'"
      ]
     },
     "execution_count": 5,
     "metadata": {},
     "output_type": "execute_result"
    }
   ],
   "source": [
    "s"
   ]
  },
  {
   "cell_type": "code",
   "execution_count": 6,
   "id": "03d65a91-496f-41fb-99a5-8fee09408273",
   "metadata": {},
   "outputs": [
    {
     "data": {
      "text/plain": [
       "'a'"
      ]
     },
     "execution_count": 6,
     "metadata": {},
     "output_type": "execute_result"
    }
   ],
   "source": [
    "s[3]"
   ]
  },
  {
   "cell_type": "code",
   "execution_count": 7,
   "id": "597bc875-4e9d-4d0b-9542-1faab9b67617",
   "metadata": {},
   "outputs": [
    {
     "data": {
      "text/plain": [
       "'s'"
      ]
     },
     "execution_count": 7,
     "metadata": {},
     "output_type": "execute_result"
    }
   ],
   "source": [
    "s[0]"
   ]
  },
  {
   "cell_type": "code",
   "execution_count": 8,
   "id": "73b06418-d033-4f34-b366-35e6638c20f4",
   "metadata": {},
   "outputs": [
    {
     "data": {
      "text/plain": [
       "'n'"
      ]
     },
     "execution_count": 8,
     "metadata": {},
     "output_type": "execute_result"
    }
   ],
   "source": [
    "s[-2]"
   ]
  },
  {
   "cell_type": "code",
   "execution_count": 11,
   "id": "20cc0117-151d-43aa-b663-7f3ba9195a4e",
   "metadata": {},
   "outputs": [],
   "source": [
    "l=[2,4,5,4+3j,\"sona\",True]"
   ]
  },
  {
   "cell_type": "code",
   "execution_count": 12,
   "id": "03773518-f4cb-4b88-b7db-8c953356e301",
   "metadata": {},
   "outputs": [
    {
     "data": {
      "text/plain": [
       "5"
      ]
     },
     "execution_count": 12,
     "metadata": {},
     "output_type": "execute_result"
    }
   ],
   "source": [
    "l[2]"
   ]
  },
  {
   "cell_type": "code",
   "execution_count": 15,
   "id": "8ff9f164-4599-46f6-958a-c0ec193e6516",
   "metadata": {},
   "outputs": [
    {
     "data": {
      "text/plain": [
       "'sona'"
      ]
     },
     "execution_count": 15,
     "metadata": {},
     "output_type": "execute_result"
    }
   ],
   "source": [
    "l[4]"
   ]
  },
  {
   "cell_type": "code",
   "execution_count": 16,
   "id": "02c54629-84ab-445b-bfb7-5d0bf79b4fd9",
   "metadata": {},
   "outputs": [
    {
     "data": {
      "text/plain": [
       "True"
      ]
     },
     "execution_count": 16,
     "metadata": {},
     "output_type": "execute_result"
    }
   ],
   "source": [
    "l[-1]"
   ]
  },
  {
   "cell_type": "code",
   "execution_count": 17,
   "id": "96b61420-8c64-43d5-a754-7a4a8b81ba9d",
   "metadata": {},
   "outputs": [
    {
     "data": {
      "text/plain": [
       "2"
      ]
     },
     "execution_count": 17,
     "metadata": {},
     "output_type": "execute_result"
    }
   ],
   "source": [
    "l[-6]"
   ]
  },
  {
   "cell_type": "code",
   "execution_count": 18,
   "id": "c719f59a-93d6-4b91-a842-7ca77c0359bf",
   "metadata": {},
   "outputs": [
    {
     "data": {
      "text/plain": [
       "list"
      ]
     },
     "execution_count": 18,
     "metadata": {},
     "output_type": "execute_result"
    }
   ],
   "source": [
    "type(l)"
   ]
  },
  {
   "cell_type": "code",
   "execution_count": 22,
   "id": "f18db364-5719-4df3-ae25-fa2eb7421b0f",
   "metadata": {},
   "outputs": [],
   "source": [
    "l[-1]=False"
   ]
  },
  {
   "cell_type": "code",
   "execution_count": 25,
   "id": "51383ee0-e1e6-47f7-9d07-3acb2110e6a2",
   "metadata": {},
   "outputs": [
    {
     "data": {
      "text/plain": [
       "[2, 4, 5, (4+3j), 'sona', False]"
      ]
     },
     "execution_count": 25,
     "metadata": {},
     "output_type": "execute_result"
    }
   ],
   "source": [
    "l"
   ]
  },
  {
   "cell_type": "code",
   "execution_count": 26,
   "id": "edb68afc-a79b-43fa-92d6-ad8c102bd8a6",
   "metadata": {},
   "outputs": [
    {
     "data": {
      "text/plain": [
       "(4+3j)"
      ]
     },
     "execution_count": 26,
     "metadata": {},
     "output_type": "execute_result"
    }
   ],
   "source": [
    "l[-3]"
   ]
  },
  {
   "cell_type": "code",
   "execution_count": 27,
   "id": "1c8d900e-c44e-4be6-848a-1d513221ba8b",
   "metadata": {},
   "outputs": [],
   "source": [
    "l[0]=1"
   ]
  },
  {
   "cell_type": "code",
   "execution_count": 28,
   "id": "0e0e0883-9d97-4ad5-aac0-d11ada0b73a6",
   "metadata": {},
   "outputs": [
    {
     "data": {
      "text/plain": [
       "[1, 4, 5, (4+3j), 'sona', False]"
      ]
     },
     "execution_count": 28,
     "metadata": {},
     "output_type": "execute_result"
    }
   ],
   "source": [
    "l"
   ]
  },
  {
   "cell_type": "code",
   "execution_count": 29,
   "id": "87edd893-a5a5-4c2d-868d-141dfbecc9b8",
   "metadata": {},
   "outputs": [
    {
     "data": {
      "text/plain": [
       "20"
      ]
     },
     "execution_count": 29,
     "metadata": {},
     "output_type": "execute_result"
    }
   ],
   "source": [
    "10+10"
   ]
  },
  {
   "cell_type": "code",
   "execution_count": 30,
   "id": "401a4bc3-73da-47f0-affb-5c2634bbf4d0",
   "metadata": {},
   "outputs": [
    {
     "data": {
      "text/plain": [
       "800"
      ]
     },
     "execution_count": 30,
     "metadata": {},
     "output_type": "execute_result"
    }
   ],
   "source": [
    "100*8"
   ]
  },
  {
   "cell_type": "code",
   "execution_count": 31,
   "id": "b4cdbdca-1e16-4397-aa2b-0370dafd9f77",
   "metadata": {},
   "outputs": [
    {
     "data": {
      "text/plain": [
       "2.0"
      ]
     },
     "execution_count": 31,
     "metadata": {},
     "output_type": "execute_result"
    }
   ],
   "source": [
    "20/10"
   ]
  },
  {
   "cell_type": "code",
   "execution_count": 32,
   "id": "1382ad70-f019-47b6-9f57-94e5efeadbed",
   "metadata": {},
   "outputs": [
    {
     "data": {
      "text/plain": [
       "0"
      ]
     },
     "execution_count": 32,
     "metadata": {},
     "output_type": "execute_result"
    }
   ],
   "source": [
    "4%4"
   ]
  },
  {
   "cell_type": "code",
   "execution_count": 33,
   "id": "6cbf4f06-4b5f-42bb-a340-f01e0ac15626",
   "metadata": {},
   "outputs": [
    {
     "data": {
      "text/plain": [
       "4"
      ]
     },
     "execution_count": 33,
     "metadata": {},
     "output_type": "execute_result"
    }
   ],
   "source": [
    "4%8"
   ]
  },
  {
   "cell_type": "code",
   "execution_count": 34,
   "id": "a41ee241-d677-4d38-a5a2-f98d76a47e5e",
   "metadata": {},
   "outputs": [
    {
     "data": {
      "text/plain": [
       "8"
      ]
     },
     "execution_count": 34,
     "metadata": {},
     "output_type": "execute_result"
    }
   ],
   "source": [
    "2**3"
   ]
  },
  {
   "cell_type": "code",
   "execution_count": 35,
   "id": "397a5f33-cf62-480e-b39c-11cc9a97e6b2",
   "metadata": {},
   "outputs": [
    {
     "data": {
      "text/plain": [
       "16"
      ]
     },
     "execution_count": 35,
     "metadata": {},
     "output_type": "execute_result"
    }
   ],
   "source": [
    "4**2"
   ]
  },
  {
   "cell_type": "code",
   "execution_count": 40,
   "id": "3a10845e-b05f-4c02-988f-98a8b407093a",
   "metadata": {},
   "outputs": [
    {
     "data": {
      "text/plain": [
       "25"
      ]
     },
     "execution_count": 40,
     "metadata": {},
     "output_type": "execute_result"
    }
   ],
   "source": [
    "5**2"
   ]
  },
  {
   "cell_type": "code",
   "execution_count": 41,
   "id": "5a343bc9-4341-40ef-bf6d-7630300acfe8",
   "metadata": {},
   "outputs": [
    {
     "data": {
      "text/plain": [
       "9"
      ]
     },
     "execution_count": 41,
     "metadata": {},
     "output_type": "execute_result"
    }
   ],
   "source": [
    "3**2"
   ]
  },
  {
   "cell_type": "code",
   "execution_count": 42,
   "id": "9bb55065-ddac-487c-801e-da83dbda5915",
   "metadata": {},
   "outputs": [
    {
     "data": {
      "text/plain": [
       "1"
      ]
     },
     "execution_count": 42,
     "metadata": {},
     "output_type": "execute_result"
    }
   ],
   "source": [
    "4//3"
   ]
  },
  {
   "cell_type": "code",
   "execution_count": 44,
   "id": "19c4a396-6805-43b3-b30d-c71d9f756aa6",
   "metadata": {},
   "outputs": [
    {
     "data": {
      "text/plain": [
       "3"
      ]
     },
     "execution_count": 44,
     "metadata": {},
     "output_type": "execute_result"
    }
   ],
   "source": [
    "9//3"
   ]
  },
  {
   "cell_type": "code",
   "execution_count": 45,
   "id": "3b93ddc6-0a0a-46e1-8e6d-fc760c5ae636",
   "metadata": {},
   "outputs": [
    {
     "data": {
      "text/plain": [
       "2"
      ]
     },
     "execution_count": 45,
     "metadata": {},
     "output_type": "execute_result"
    }
   ],
   "source": [
    "8//4"
   ]
  },
  {
   "cell_type": "code",
   "execution_count": 46,
   "id": "dd55b735-dcb0-4126-85fb-a0b6d858630d",
   "metadata": {},
   "outputs": [
    {
     "data": {
      "text/plain": [
       "True"
      ]
     },
     "execution_count": 46,
     "metadata": {},
     "output_type": "execute_result"
    }
   ],
   "source": [
    "1<2"
   ]
  },
  {
   "cell_type": "code",
   "execution_count": 47,
   "id": "21c7086d-216a-4f49-aa64-7201c98d6a86",
   "metadata": {},
   "outputs": [
    {
     "data": {
      "text/plain": [
       "False"
      ]
     },
     "execution_count": 47,
     "metadata": {},
     "output_type": "execute_result"
    }
   ],
   "source": [
    "4>5"
   ]
  },
  {
   "cell_type": "code",
   "execution_count": 48,
   "id": "47e77720-cb7b-4f43-a514-dc15e93d5d51",
   "metadata": {},
   "outputs": [
    {
     "data": {
      "text/plain": [
       "True"
      ]
     },
     "execution_count": 48,
     "metadata": {},
     "output_type": "execute_result"
    }
   ],
   "source": [
    "6==6"
   ]
  },
  {
   "cell_type": "code",
   "execution_count": 49,
   "id": "7a5fa70a-ff9f-4c6f-84a2-e2f72f32f160",
   "metadata": {},
   "outputs": [
    {
     "data": {
      "text/plain": [
       "False"
      ]
     },
     "execution_count": 49,
     "metadata": {},
     "output_type": "execute_result"
    }
   ],
   "source": [
    "8==60"
   ]
  },
  {
   "cell_type": "code",
   "execution_count": 50,
   "id": "9b48eb43-0455-4ff5-934c-3fbc780a6bee",
   "metadata": {},
   "outputs": [
    {
     "data": {
      "text/plain": [
       "False"
      ]
     },
     "execution_count": 50,
     "metadata": {},
     "output_type": "execute_result"
    }
   ],
   "source": [
    "20!=20"
   ]
  },
  {
   "cell_type": "code",
   "execution_count": 51,
   "id": "0b464d3d-751f-4e0d-b55e-6db6539ec67c",
   "metadata": {},
   "outputs": [
    {
     "data": {
      "text/plain": [
       "True"
      ]
     },
     "execution_count": 51,
     "metadata": {},
     "output_type": "execute_result"
    }
   ],
   "source": [
    "3!=2"
   ]
  },
  {
   "cell_type": "code",
   "execution_count": 52,
   "id": "ba254bd3-a118-4aa2-9add-27d373e203cb",
   "metadata": {},
   "outputs": [
    {
     "data": {
      "text/plain": [
       "False"
      ]
     },
     "execution_count": 52,
     "metadata": {},
     "output_type": "execute_result"
    }
   ],
   "source": [
    "True and False"
   ]
  },
  {
   "cell_type": "code",
   "execution_count": 53,
   "id": "d4121758-8a50-4282-b244-e0409dff127f",
   "metadata": {},
   "outputs": [
    {
     "data": {
      "text/plain": [
       "True"
      ]
     },
     "execution_count": 53,
     "metadata": {},
     "output_type": "execute_result"
    }
   ],
   "source": [
    "True and True"
   ]
  },
  {
   "cell_type": "code",
   "execution_count": 54,
   "id": "afc06931-7833-40d3-9cd4-f81f63391992",
   "metadata": {},
   "outputs": [
    {
     "data": {
      "text/plain": [
       "True"
      ]
     },
     "execution_count": 54,
     "metadata": {},
     "output_type": "execute_result"
    }
   ],
   "source": [
    "False or True"
   ]
  },
  {
   "cell_type": "code",
   "execution_count": 55,
   "id": "2a992480-653d-4ccb-8f16-bef45cc80887",
   "metadata": {},
   "outputs": [
    {
     "data": {
      "text/plain": [
       "False"
      ]
     },
     "execution_count": 55,
     "metadata": {},
     "output_type": "execute_result"
    }
   ],
   "source": [
    "False or False"
   ]
  },
  {
   "cell_type": "code",
   "execution_count": 56,
   "id": "344c60f6-e5ad-410d-a841-69fc8091c493",
   "metadata": {},
   "outputs": [
    {
     "data": {
      "text/plain": [
       "10"
      ]
     },
     "execution_count": 56,
     "metadata": {},
     "output_type": "execute_result"
    }
   ],
   "source": [
    "10&10"
   ]
  },
  {
   "cell_type": "code",
   "execution_count": 57,
   "id": "9f8308c6-8d13-440b-bb58-89a3e2046145",
   "metadata": {},
   "outputs": [
    {
     "data": {
      "text/plain": [
       "2"
      ]
     },
     "execution_count": 57,
     "metadata": {},
     "output_type": "execute_result"
    }
   ],
   "source": [
    "10&3"
   ]
  },
  {
   "cell_type": "code",
   "execution_count": 58,
   "id": "8a726a6d-86ca-4c1e-afe4-8051b0b953e9",
   "metadata": {},
   "outputs": [
    {
     "data": {
      "text/plain": [
       "'0b1010'"
      ]
     },
     "execution_count": 58,
     "metadata": {},
     "output_type": "execute_result"
    }
   ],
   "source": [
    "bin(10)"
   ]
  },
  {
   "cell_type": "code",
   "execution_count": 59,
   "id": "e2354cf6-96db-44bb-ac7e-22259a9d02b3",
   "metadata": {},
   "outputs": [
    {
     "data": {
      "text/plain": [
       "'0b101'"
      ]
     },
     "execution_count": 59,
     "metadata": {},
     "output_type": "execute_result"
    }
   ],
   "source": [
    "bin(5)"
   ]
  },
  {
   "cell_type": "code",
   "execution_count": 60,
   "id": "6aacb807-4b6e-48ea-adf3-77aad31c88ef",
   "metadata": {},
   "outputs": [
    {
     "data": {
      "text/plain": [
       "0"
      ]
     },
     "execution_count": 60,
     "metadata": {},
     "output_type": "execute_result"
    }
   ],
   "source": [
    "30>>7"
   ]
  },
  {
   "cell_type": "code",
   "execution_count": 61,
   "id": "e22ade23-96d6-4052-b0d9-6f87857c75ec",
   "metadata": {},
   "outputs": [
    {
     "data": {
      "text/plain": [
       "2496"
      ]
     },
     "execution_count": 61,
     "metadata": {},
     "output_type": "execute_result"
    }
   ],
   "source": [
    "78<<5"
   ]
  },
  {
   "cell_type": "code",
   "execution_count": 4,
   "id": "59aef992-a2c0-483b-b75e-aa72285991b0",
   "metadata": {},
   "outputs": [
    {
     "data": {
      "text/plain": [
       "'0b100111000000'"
      ]
     },
     "execution_count": 4,
     "metadata": {},
     "output_type": "execute_result"
    }
   ],
   "source": [
    "bin(2496)"
   ]
  },
  {
   "cell_type": "code",
   "execution_count": 5,
   "id": "853db411-cdfe-495a-8d34-abe18b2232e9",
   "metadata": {},
   "outputs": [],
   "source": [
    "a=12"
   ]
  },
  {
   "cell_type": "code",
   "execution_count": 6,
   "id": "1c0c0155-bb8e-4d03-9111-b9fc010b544f",
   "metadata": {},
   "outputs": [
    {
     "data": {
      "text/plain": [
       "12"
      ]
     },
     "execution_count": 6,
     "metadata": {},
     "output_type": "execute_result"
    }
   ],
   "source": [
    "a"
   ]
  },
  {
   "cell_type": "code",
   "execution_count": 7,
   "id": "d88ad292-cbb3-4b88-9fda-adfa3bf4b927",
   "metadata": {},
   "outputs": [],
   "source": [
    "a=a+2"
   ]
  },
  {
   "cell_type": "code",
   "execution_count": 8,
   "id": "f40f2846-feef-4e5f-823e-408783ab612d",
   "metadata": {},
   "outputs": [
    {
     "data": {
      "text/plain": [
       "14"
      ]
     },
     "execution_count": 8,
     "metadata": {},
     "output_type": "execute_result"
    }
   ],
   "source": [
    "a"
   ]
  },
  {
   "cell_type": "code",
   "execution_count": 9,
   "id": "4fffd291-513f-41ea-b3e5-1ad1db2046b6",
   "metadata": {},
   "outputs": [],
   "source": [
    "b=12\n",
    "b=b-4"
   ]
  },
  {
   "cell_type": "code",
   "execution_count": 10,
   "id": "ea7b07ea-ee4f-481c-bdc6-b9f79e3056ff",
   "metadata": {},
   "outputs": [
    {
     "data": {
      "text/plain": [
       "8"
      ]
     },
     "execution_count": 10,
     "metadata": {},
     "output_type": "execute_result"
    }
   ],
   "source": [
    "b"
   ]
  },
  {
   "cell_type": "code",
   "execution_count": null,
   "id": "18d19948-2f34-484e-bb76-b9a14c6c5147",
   "metadata": {},
   "outputs": [],
   "source": []
  }
 ],
 "metadata": {
  "kernelspec": {
   "display_name": "Python 3 (ipykernel)",
   "language": "python",
   "name": "python3"
  },
  "language_info": {
   "codemirror_mode": {
    "name": "ipython",
    "version": 3
   },
   "file_extension": ".py",
   "mimetype": "text/x-python",
   "name": "python",
   "nbconvert_exporter": "python",
   "pygments_lexer": "ipython3",
   "version": "3.10.8"
  }
 },
 "nbformat": 4,
 "nbformat_minor": 5
}
